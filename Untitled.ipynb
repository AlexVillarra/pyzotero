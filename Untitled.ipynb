{
 "cells": [
  {
   "cell_type": "code",
   "execution_count": 1,
   "metadata": {
    "collapsed": true
   },
   "outputs": [],
   "source": [
    "import requests"
   ]
  },
  {
   "cell_type": "code",
   "execution_count": 2,
   "metadata": {
    "collapsed": true
   },
   "outputs": [],
   "source": [
    "url = \"https://api.github.com/repos/urschrei/pyzotero/contributors\""
   ]
  },
  {
   "cell_type": "code",
   "execution_count": 3,
   "metadata": {
    "collapsed": true
   },
   "outputs": [],
   "source": [
    "result = requests.get(url)\n",
    "result.raise_for_status()\n",
    "as_dict = result.json().pop(0)"
   ]
  },
  {
   "cell_type": "code",
   "execution_count": 19,
   "metadata": {
    "collapsed": true
   },
   "outputs": [],
   "source": [
    "header = \"# This is the list of people (as distinct from AUTHORS) who have contributed code to Pyzotero.\\n\\n| **Commits** | **Contributor**<br/> |\\n| --- |--- |\\n\"\n",
    "template = \"| {contributions} | [{login}]({html_url}) |\\n\""
   ]
  },
  {
   "cell_type": "code",
   "execution_count": 20,
   "metadata": {
    "collapsed": true
   },
   "outputs": [],
   "source": [
    "formatted = [template.format(**dct) for dct in as_dict]"
   ]
  },
  {
   "cell_type": "code",
   "execution_count": 21,
   "metadata": {
    "collapsed": true
   },
   "outputs": [],
   "source": [
    "with open(\"CONTRIBUTORS\", 'w') as f:\n",
    "    f.write(header)\n",
    "    for item in formatted:\n",
    "        f.write(item)"
   ]
  },
  {
   "cell_type": "code",
   "execution_count": 22,
   "metadata": {},
   "outputs": [
    {
     "data": {
      "text/plain": [
       "['| 789 | [urschrei](https://github.com/urschrei) |\\n',\n",
       " '| 13 | [TruePath](https://github.com/TruePath) |\\n',\n",
       " '| 5 | [patrickfournier](https://github.com/patrickfournier) |\\n',\n",
       " '| 2 | [ptgolden](https://github.com/ptgolden) |\\n',\n",
       " '| 2 | [bemuzie](https://github.com/bemuzie) |\\n',\n",
       " '| 1 | [alee](https://github.com/alee) |\\n',\n",
       " '| 1 | [avram](https://github.com/avram) |\\n',\n",
       " '| 1 | [christianbrodbeck](https://github.com/christianbrodbeck) |\\n',\n",
       " '| 1 | [egh](https://github.com/egh) |\\n',\n",
       " '| 1 | [porduna](https://github.com/porduna) |\\n',\n",
       " '| 1 | [stakats](https://github.com/stakats) |\\n',\n",
       " '| 1 | [epistemery](https://github.com/epistemery) |\\n',\n",
       " '| 1 | [jghauser](https://github.com/jghauser) |\\n',\n",
       " '| 1 | [mrbiber](https://github.com/mrbiber) |\\n']"
      ]
     },
     "execution_count": 22,
     "metadata": {},
     "output_type": "execute_result"
    }
   ],
   "source": [
    "formatted"
   ]
  },
  {
   "cell_type": "code",
   "execution_count": 12,
   "metadata": {},
   "outputs": [
    {
     "data": {
      "text/plain": [
       "[2, 3]"
      ]
     },
     "execution_count": 12,
     "metadata": {},
     "output_type": "execute_result"
    }
   ],
   "source": [
    "ls = [1, 2, 3]\n",
    "ls.pop(0)\n",
    "ls"
   ]
  },
  {
   "cell_type": "code",
   "execution_count": null,
   "metadata": {
    "collapsed": true
   },
   "outputs": [],
   "source": []
  }
 ],
 "metadata": {
  "kernelspec": {
   "display_name": "Python 2",
   "language": "python",
   "name": "python2"
  },
  "language_info": {
   "codemirror_mode": {
    "name": "ipython",
    "version": 2
   },
   "file_extension": ".py",
   "mimetype": "text/x-python",
   "name": "python",
   "nbconvert_exporter": "python",
   "pygments_lexer": "ipython2",
   "version": "2.7.10"
  }
 },
 "nbformat": 4,
 "nbformat_minor": 2
}
